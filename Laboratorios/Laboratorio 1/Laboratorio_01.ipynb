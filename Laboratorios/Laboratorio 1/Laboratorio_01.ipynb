{
  "nbformat": 4,
  "nbformat_minor": 0,
  "metadata": {
    "colab": {
      "provenance": [],
      "gpuType": "T4"
    },
    "kernelspec": {
      "name": "python3",
      "display_name": "Python 3"
    },
    "language_info": {
      "name": "python"
    },
    "accelerator": "GPU"
  },
  "cells": [
    {
      "cell_type": "code",
      "source": [
        "import torch\n",
        "import torch.nn as nn\n",
        "import torch.optim as optim\n",
        "from sklearn.metrics import accuracy_score\n",
        "import torchvision.transforms as transforms\n",
        "from torchvision.datasets import EMNIST\n",
        "from torch.utils.data import DataLoader"
      ],
      "metadata": {
        "id": "s0j1kjH3b6Om"
      },
      "execution_count": null,
      "outputs": []
    },
    {
      "cell_type": "code",
      "source": [
        "# Transformaciones para normalización y conversión a tensores\n",
        "transform = transforms.Compose([transforms.ToTensor(), transforms.Normalize((0.5,), (0.5,))])"
      ],
      "metadata": {
        "id": "eKLtMZIUb-bA"
      },
      "execution_count": null,
      "outputs": []
    },
    {
      "cell_type": "code",
      "source": [
        "# Cargar el conjunto de datos \"emnist\" (balanced)\n",
        "train_dataset = EMNIST(root='./data', split='balanced', train=True, download=True, transform=transform)\n",
        "test_dataset = EMNIST(root='./data', split='balanced', train=False, download=True, transform=transform)"
      ],
      "metadata": {
        "colab": {
          "base_uri": "https://localhost:8080/"
        },
        "id": "lns0bB-tcBNI",
        "outputId": "22759a87-7346-45b0-f482-898320548872"
      },
      "execution_count": null,
      "outputs": [
        {
          "output_type": "stream",
          "name": "stdout",
          "text": [
            "Downloading https://www.itl.nist.gov/iaui/vip/cs_links/EMNIST/gzip.zip to ./data/EMNIST/raw/gzip.zip\n"
          ]
        },
        {
          "output_type": "stream",
          "name": "stderr",
          "text": [
            "100%|██████████| 561753746/561753746 [00:11<00:00, 47524667.39it/s]\n"
          ]
        },
        {
          "output_type": "stream",
          "name": "stdout",
          "text": [
            "Extracting ./data/EMNIST/raw/gzip.zip to ./data/EMNIST/raw\n"
          ]
        }
      ]
    },
    {
      "cell_type": "code",
      "source": [
        "# Crear DataLoader para facilitar el manejo de lotes\n",
        "batch_size = 64\n",
        "train_loader = DataLoader(train_dataset, batch_size=batch_size, shuffle=True)\n",
        "test_loader = DataLoader(test_dataset, batch_size=batch_size, shuffle=False)"
      ],
      "metadata": {
        "id": "S0mG84C3cGQW"
      },
      "execution_count": null,
      "outputs": []
    },
    {
      "cell_type": "code",
      "source": [
        "# Definir la arquitectura de la red neuronal con dos capas ocultas\n",
        "class NeuralNetwork(nn.Module):\n",
        "    def __init__(self, input_size, hidden_size1, hidden_size2, num_classes):\n",
        "        super(NeuralNetwork, self).__init__()\n",
        "        self.fc1 = nn.Linear(input_size, hidden_size1)\n",
        "        self.relu1 = nn.ReLU()\n",
        "        self.fc2 = nn.Linear(hidden_size1, hidden_size2)\n",
        "        self.relu2 = nn.ReLU()\n",
        "        self.fc3 = nn.Linear(hidden_size2, num_classes)\n",
        "\n",
        "    def forward(self, x):\n",
        "        out = self.fc1(x)\n",
        "        out = self.relu1(out)\n",
        "        out = self.fc2(out)\n",
        "        out = self.relu2(out)\n",
        "        out = self.fc3(out)\n",
        "        return out"
      ],
      "metadata": {
        "id": "rZmsy833cHDy"
      },
      "execution_count": null,
      "outputs": []
    },
    {
      "cell_type": "code",
      "source": [
        "# Parámetros de la red neuronal\n",
        "input_size = 784  # 28x28 imágenes\n",
        "hidden_size1 = 200\n",
        "hidden_size2 = 200\n",
        "num_classes = 47  # Número de clases en EMNIST Caracteres Especiales"
      ],
      "metadata": {
        "id": "C7TFkXJBcJ8n"
      },
      "execution_count": null,
      "outputs": []
    },
    {
      "cell_type": "code",
      "source": [
        "# Crear la instancia de la red neuronal\n",
        "model = NeuralNetwork(input_size, hidden_size1, hidden_size2, num_classes)\n",
        "device = torch.device(\"cuda\" if torch.cuda.is_available() else \"cpu\")\n",
        "model.to(device)"
      ],
      "metadata": {
        "colab": {
          "base_uri": "https://localhost:8080/"
        },
        "id": "EK43-seccOQC",
        "outputId": "f4b73e25-9c10-4223-e135-d7e2dbbf560b"
      },
      "execution_count": null,
      "outputs": [
        {
          "output_type": "execute_result",
          "data": {
            "text/plain": [
              "NeuralNetwork(\n",
              "  (fc1): Linear(in_features=784, out_features=200, bias=True)\n",
              "  (relu1): ReLU()\n",
              "  (fc2): Linear(in_features=200, out_features=200, bias=True)\n",
              "  (relu2): ReLU()\n",
              "  (fc3): Linear(in_features=200, out_features=47, bias=True)\n",
              ")"
            ]
          },
          "metadata": {},
          "execution_count": 7
        }
      ]
    },
    {
      "cell_type": "code",
      "source": [
        "# Definir la función de pérdida y el optimizador\n",
        "criterion = nn.CrossEntropyLoss()\n",
        "optimizer = optim.Adam(model.parameters(), lr=0.001)"
      ],
      "metadata": {
        "id": "b3bjnmPscSr-"
      },
      "execution_count": null,
      "outputs": []
    },
    {
      "cell_type": "code",
      "source": [
        "# Entrenamiento de la red neuronal\n",
        "epochs = 20\n",
        "\n",
        "for epoch in range(epochs):\n",
        "    model.train()\n",
        "    total_loss = 0.0\n",
        "\n",
        "    for batch_inputs, batch_labels in train_loader:\n",
        "        batch_inputs, batch_labels = batch_inputs.view(batch_inputs.size(0), -1).to(device), batch_labels.to(device)\n",
        "        optimizer.zero_grad()\n",
        "        outputs = model(batch_inputs)\n",
        "        loss = criterion(outputs, batch_labels)\n",
        "        loss.backward()\n",
        "        optimizer.step()\n",
        "        total_loss += loss.item()\n",
        "\n",
        "    print(f\"Epoch {epoch+1}/{epochs} - Loss: {total_loss / len(train_loader):.4f}\")"
      ],
      "metadata": {
        "colab": {
          "base_uri": "https://localhost:8080/"
        },
        "id": "fCFgZ4FWcVla",
        "outputId": "228d7d06-e418-4690-e1ea-80f540356c0a"
      },
      "execution_count": null,
      "outputs": [
        {
          "output_type": "stream",
          "name": "stdout",
          "text": [
            "Epoch 1/20 - Loss: 1.0411\n",
            "Epoch 2/20 - Loss: 0.6171\n",
            "Epoch 3/20 - Loss: 0.5330\n",
            "Epoch 4/20 - Loss: 0.4843\n",
            "Epoch 5/20 - Loss: 0.4507\n",
            "Epoch 6/20 - Loss: 0.4259\n",
            "Epoch 7/20 - Loss: 0.4053\n",
            "Epoch 8/20 - Loss: 0.3900\n",
            "Epoch 9/20 - Loss: 0.3770\n",
            "Epoch 10/20 - Loss: 0.3634\n",
            "Epoch 11/20 - Loss: 0.3522\n",
            "Epoch 12/20 - Loss: 0.3446\n",
            "Epoch 13/20 - Loss: 0.3363\n",
            "Epoch 14/20 - Loss: 0.3249\n",
            "Epoch 15/20 - Loss: 0.3181\n",
            "Epoch 16/20 - Loss: 0.3104\n",
            "Epoch 17/20 - Loss: 0.3068\n",
            "Epoch 18/20 - Loss: 0.2995\n",
            "Epoch 19/20 - Loss: 0.2934\n",
            "Epoch 20/20 - Loss: 0.2887\n"
          ]
        }
      ]
    },
    {
      "cell_type": "code",
      "source": [
        "# Evaluación del modelo en el conjunto de prueba\n",
        "model.eval()\n",
        "all_predictions = []\n",
        "true_labels = []\n",
        "\n",
        "with torch.no_grad():\n",
        "    for batch_inputs, batch_labels in test_loader:\n",
        "        batch_inputs, batch_labels = batch_inputs.view(batch_inputs.size(0), -1).to(device), batch_labels.to(device)\n",
        "        outputs = model(batch_inputs)\n",
        "        predictions = torch.argmax(outputs, dim=1)\n",
        "        all_predictions.extend(predictions.cpu().numpy())\n",
        "        true_labels.extend(batch_labels.cpu().numpy())\n",
        "\n",
        "accuracy = accuracy_score(true_labels, all_predictions)\n",
        "print(f\"Exactitud en los datos de prueba: {100 * accuracy:.2f}%\")"
      ],
      "metadata": {
        "colab": {
          "base_uri": "https://localhost:8080/"
        },
        "id": "aJB5yax0cWq2",
        "outputId": "c019b050-111f-43a9-ca4e-32358912a59a"
      },
      "execution_count": null,
      "outputs": [
        {
          "output_type": "stream",
          "name": "stdout",
          "text": [
            "Exactitud en los datos de prueba: 81.76%\n"
          ]
        }
      ]
    },
    {
      "cell_type": "code",
      "source": [
        "%matplotlib inline\n",
        "import matplotlib.pyplot as plt\n",
        "import random\n",
        "\n",
        "r, c = 3, 5\n",
        "fig = plt.figure(figsize=(2 * c, 2 * r))\n",
        "for _r in range(r):\n",
        "    for _c in range(c):\n",
        "        plt.subplot(r, c, _r * c + _c + 1)\n",
        "        ix = random.randint(0, len(test_dataset) - 1)\n",
        "        img, label = test_dataset[ix]\n",
        "\n",
        "        # Desnormalizar y mostrar la imagen\n",
        "        img = img.numpy() * 0.5 + 0.5  # Deshacer la normalización\n",
        "        plt.imshow(img[0], cmap='gray')  # EMNIST images have shape (1, 28, 28)\n",
        "        plt.axis(\"off\")\n",
        "        plt.title(chr(label + 96))  # Convert label to ASCII character\n",
        "plt.tight_layout()\n",
        "plt.show()"
      ],
      "metadata": {
        "colab": {
          "base_uri": "https://localhost:8080/",
          "height": 782
        },
        "id": "t8N38C0DL8TJ",
        "outputId": "d05bcea6-5162-4e29-e148-f6f4fc74be39"
      },
      "execution_count": null,
      "outputs": [
        {
          "output_type": "stream",
          "name": "stderr",
          "text": [
            "<ipython-input-12-17d4bfc37642>:18: UserWarning: Glyph 142 (\\x8e) missing from current font.\n",
            "  plt.tight_layout()\n",
            "<ipython-input-12-17d4bfc37642>:18: UserWarning: Glyph 136 (\\x88) missing from current font.\n",
            "  plt.tight_layout()\n",
            "<ipython-input-12-17d4bfc37642>:18: UserWarning: Glyph 140 (\\x8c) missing from current font.\n",
            "  plt.tight_layout()\n",
            "/usr/local/lib/python3.10/dist-packages/IPython/core/pylabtools.py:151: UserWarning: Glyph 142 (\\x8e) missing from current font.\n",
            "  fig.canvas.print_figure(bytes_io, **kw)\n",
            "/usr/local/lib/python3.10/dist-packages/IPython/core/pylabtools.py:151: UserWarning: Glyph 136 (\\x88) missing from current font.\n",
            "  fig.canvas.print_figure(bytes_io, **kw)\n"
          ]
        },
        {
          "output_type": "display_data",
          "data": {
            "text/plain": [
              "<Figure size 1000x600 with 15 Axes>"
            ],
            "image/png": "[encoded data removed]"
          },
          "metadata": {}
        }
      ]
    }
  ]
}