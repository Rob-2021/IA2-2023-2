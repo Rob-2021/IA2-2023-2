{
  "nbformat": 4,
  "nbformat_minor": 0,
  "metadata": {
    "colab": {
      "provenance": [],
      "gpuType": "T4"
    },
    "kernelspec": {
      "name": "python3",
      "display_name": "Python 3"
    },
    "language_info": {
      "name": "python"
    },
    "accelerator": "GPU"
  },
  "cells": [
    {
      "cell_type": "code",
      "source": [
        "from google.colab import drive\n",
        "drive.mount('/content/drive')"
      ],
      "metadata": {
        "colab": {
          "base_uri": "https://localhost:8080/"
        },
        "id": "q89pxm_bZmTV",
        "outputId": "f23d1dd8-5a2f-4a0f-fd19-03d5e3e22de5"
      },
      "execution_count": 1,
      "outputs": [
        {
          "output_type": "stream",
          "name": "stdout",
          "text": [
            "Mounted at /content/drive\n"
          ]
        }
      ]
    },
    {
      "cell_type": "markdown",
      "source": [
        "# Importamos las librerias necesarias"
      ],
      "metadata": {
        "id": "V_bddmAenUhi"
      }
    },
    {
      "cell_type": "code",
      "execution_count": 2,
      "metadata": {
        "id": "uABJh6T42D9j"
      },
      "outputs": [],
      "source": [
        "import torch\n",
        "import torch.nn as nn\n",
        "import seaborn as sns\n",
        "import numpy as np\n",
        "import pandas as pd\n",
        "import matplotlib.pyplot as plt"
      ]
    },
    {
      "cell_type": "code",
      "source": [
        "device = torch.device('cuda' if torch.cuda.is_available() else 'cpu')\n",
        "print(device)"
      ],
      "metadata": {
        "colab": {
          "base_uri": "https://localhost:8080/"
        },
        "id": "EMF4-7wXC9w7",
        "outputId": "8f763b3f-4d7b-4b49-ab0e-08a36fa17101"
      },
      "execution_count": 3,
      "outputs": [
        {
          "output_type": "stream",
          "name": "stdout",
          "text": [
            "cuda\n"
          ]
        }
      ]
    },
    {
      "cell_type": "code",
      "source": [
        "data = pd.read_csv(\"/content/drive/MyDrive/Datasets/exams.csv\")\n",
        "data.head()"
      ],
      "metadata": {
        "colab": {
          "base_uri": "https://localhost:8080/",
          "height": 258
        },
        "id": "J6TJWD1vZ2n7",
        "outputId": "f293bf19-8b7e-4356-9a54-f517b751af1a"
      },
      "execution_count": 4,
      "outputs": [
        {
          "output_type": "execute_result",
          "data": {
            "text/plain": [
              "   gender race/ethnicity parental level of education         lunch  \\\n",
              "0    male        group A                 high school      standard   \n",
              "1  female        group D            some high school  free/reduced   \n",
              "2    male        group E                some college  free/reduced   \n",
              "3    male        group B                 high school      standard   \n",
              "4    male        group E          associate's degree      standard   \n",
              "\n",
              "  test preparation course  math score  reading score  writing score  \n",
              "0               completed          67             67             63  \n",
              "1                    none          40             59             55  \n",
              "2                    none          59             60             50  \n",
              "3                    none          77             78             68  \n",
              "4               completed          78             73             68  "
            ],
            "text/html": [
              "\n",
              "  <div id=\"df-40629583-77a3-4108-b22a-877227f6de94\" class=\"colab-df-container\">\n",
              "    <div>\n",
              "<style scoped>\n",
              "    .dataframe tbody tr th:only-of-type {\n",
              "        vertical-align: middle;\n",
              "    }\n",
              "\n",
              "    .dataframe tbody tr th {\n",
              "        vertical-align: top;\n",
              "    }\n",
              "\n",
              "    .dataframe thead th {\n",
              "        text-align: right;\n",
              "    }\n",
              "</style>\n",
              "<table border=\"1\" class=\"dataframe\">\n",
              "  <thead>\n",
              "    <tr style=\"text-align: right;\">\n",
              "      <th></th>\n",
              "      <th>gender</th>\n",
              "      <th>race/ethnicity</th>\n",
              "      <th>parental level of education</th>\n",
              "      <th>lunch</th>\n",
              "      <th>test preparation course</th>\n",
              "      <th>math score</th>\n",
              "      <th>reading score</th>\n",
              "      <th>writing score</th>\n",
              "    </tr>\n",
              "  </thead>\n",
              "  <tbody>\n",
              "    <tr>\n",
              "      <th>0</th>\n",
              "      <td>male</td>\n",
              "      <td>group A</td>\n",
              "      <td>high school</td>\n",
              "      <td>standard</td>\n",
              "      <td>completed</td>\n",
              "      <td>67</td>\n",
              "      <td>67</td>\n",
              "      <td>63</td>\n",
              "    </tr>\n",
              "    <tr>\n",
              "      <th>1</th>\n",
              "      <td>female</td>\n",
              "      <td>group D</td>\n",
              "      <td>some high school</td>\n",
              "      <td>free/reduced</td>\n",
              "      <td>none</td>\n",
              "      <td>40</td>\n",
              "      <td>59</td>\n",
              "      <td>55</td>\n",
              "    </tr>\n",
              "    <tr>\n",
              "      <th>2</th>\n",
              "      <td>male</td>\n",
              "      <td>group E</td>\n",
              "      <td>some college</td>\n",
              "      <td>free/reduced</td>\n",
              "      <td>none</td>\n",
              "      <td>59</td>\n",
              "      <td>60</td>\n",
              "      <td>50</td>\n",
              "    </tr>\n",
              "    <tr>\n",
              "      <th>3</th>\n",
              "      <td>male</td>\n",
              "      <td>group B</td>\n",
              "      <td>high school</td>\n",
              "      <td>standard</td>\n",
              "      <td>none</td>\n",
              "      <td>77</td>\n",
              "      <td>78</td>\n",
              "      <td>68</td>\n",
              "    </tr>\n",
              "    <tr>\n",
              "      <th>4</th>\n",
              "      <td>male</td>\n",
              "      <td>group E</td>\n",
              "      <td>associate's degree</td>\n",
              "      <td>standard</td>\n",
              "      <td>completed</td>\n",
              "      <td>78</td>\n",
              "      <td>73</td>\n",
              "      <td>68</td>\n",
              "    </tr>\n",
              "  </tbody>\n",
              "</table>\n",
              "</div>\n",
              "    <div class=\"colab-df-buttons\">\n",
              "\n",
              "  <div class=\"colab-df-container\">\n",
              "    <button class=\"colab-df-convert\" onclick=\"convertToInteractive('df-40629583-77a3-4108-b22a-877227f6de94')\"\n",
              "            title=\"Convert this dataframe to an interactive table.\"\n",
              "            style=\"display:none;\">\n",
              "\n",
              "  <svg xmlns=\"http://www.w3.org/2000/svg\" height=\"24px\" viewBox=\"0 -960 960 960\">\n",
              "    <path d=\"M120-120v-720h720v720H120Zm60-500h600v-160H180v160Zm220 220h160v-160H400v160Zm0 220h160v-160H400v160ZM180-400h160v-160H180v160Zm440 0h160v-160H620v160ZM180-180h160v-160H180v160Zm440 0h160v-160H620v160Z\"/>\n",
              "  </svg>\n",
              "    </button>\n",
              "\n",
              "  <style>\n",
              "    .colab-df-container {\n",
              "      display:flex;\n",
              "      gap: 12px;\n",
              "    }\n",
              "\n",
              "    .colab-df-convert {\n",
              "      background-color: #E8F0FE;\n",
              "      border: none;\n",
              "      border-radius: 50%;\n",
              "      cursor: pointer;\n",
              "      display: none;\n",
              "      fill: #1967D2;\n",
              "      height: 32px;\n",
              "      padding: 0 0 0 0;\n",
              "      width: 32px;\n",
              "    }\n",
              "\n",
              "    .colab-df-convert:hover {\n",
              "      background-color: #E2EBFA;\n",
              "      box-shadow: 0px 1px 2px rgba(60, 64, 67, 0.3), 0px 1px 3px 1px rgba(60, 64, 67, 0.15);\n",
              "      fill: #174EA6;\n",
              "    }\n",
              "\n",
              "    .colab-df-buttons div {\n",
              "      margin-bottom: 4px;\n",
              "    }\n",
              "\n",
              "    [theme=dark] .colab-df-convert {\n",
              "      background-color: #3B4455;\n",
              "      fill: #D2E3FC;\n",
              "    }\n",
              "\n",
              "    [theme=dark] .colab-df-convert:hover {\n",
              "      background-color: #434B5C;\n",
              "      box-shadow: 0px 1px 3px 1px rgba(0, 0, 0, 0.15);\n",
              "      filter: drop-shadow(0px 1px 2px rgba(0, 0, 0, 0.3));\n",
              "      fill: #FFFFFF;\n",
              "    }\n",
              "  </style>\n",
              "\n",
              "    <script>\n",
              "      const buttonEl =\n",
              "        document.querySelector('#df-40629583-77a3-4108-b22a-877227f6de94 button.colab-df-convert');\n",
              "      buttonEl.style.display =\n",
              "        google.colab.kernel.accessAllowed ? 'block' : 'none';\n",
              "\n",
              "      async function convertToInteractive(key) {\n",
              "        const element = document.querySelector('#df-40629583-77a3-4108-b22a-877227f6de94');\n",
              "        const dataTable =\n",
              "          await google.colab.kernel.invokeFunction('convertToInteractive',\n",
              "                                                    [key], {});\n",
              "        if (!dataTable) return;\n",
              "\n",
              "        const docLinkHtml = 'Like what you see? Visit the ' +\n",
              "          '<a target=\"_blank\" href=https://colab.research.google.com/notebooks/data_table.ipynb>data table notebook</a>'\n",
              "          + ' to learn more about interactive tables.';\n",
              "        element.innerHTML = '';\n",
              "        dataTable['output_type'] = 'display_data';\n",
              "        await google.colab.output.renderOutput(dataTable, element);\n",
              "        const docLink = document.createElement('div');\n",
              "        docLink.innerHTML = docLinkHtml;\n",
              "        element.appendChild(docLink);\n",
              "      }\n",
              "    </script>\n",
              "  </div>\n",
              "\n",
              "\n",
              "<div id=\"df-dd87104a-8c02-4606-8781-79a5245bcc87\">\n",
              "  <button class=\"colab-df-quickchart\" onclick=\"quickchart('df-dd87104a-8c02-4606-8781-79a5245bcc87')\"\n",
              "            title=\"Suggest charts.\"\n",
              "            style=\"display:none;\">\n",
              "\n",
              "<svg xmlns=\"http://www.w3.org/2000/svg\" height=\"24px\"viewBox=\"0 0 24 24\"\n",
              "     width=\"24px\">\n",
              "    <g>\n",
              "        <path d=\"M19 3H5c-1.1 0-2 .9-2 2v14c0 1.1.9 2 2 2h14c1.1 0 2-.9 2-2V5c0-1.1-.9-2-2-2zM9 17H7v-7h2v7zm4 0h-2V7h2v10zm4 0h-2v-4h2v4z\"/>\n",
              "    </g>\n",
              "</svg>\n",
              "  </button>\n",
              "\n",
              "<style>\n",
              "  .colab-df-quickchart {\n",
              "      --bg-color: #E8F0FE;\n",
              "      --fill-color: #1967D2;\n",
              "      --hover-bg-color: #E2EBFA;\n",
              "      --hover-fill-color: #174EA6;\n",
              "      --disabled-fill-color: #AAA;\n",
              "      --disabled-bg-color: #DDD;\n",
              "  }\n",
              "\n",
              "  [theme=dark] .colab-df-quickchart {\n",
              "      --bg-color: #3B4455;\n",
              "      --fill-color: #D2E3FC;\n",
              "      --hover-bg-color: #434B5C;\n",
              "      --hover-fill-color: #FFFFFF;\n",
              "      --disabled-bg-color: #3B4455;\n",
              "      --disabled-fill-color: #666;\n",
              "  }\n",
              "\n",
              "  .colab-df-quickchart {\n",
              "    background-color: var(--bg-color);\n",
              "    border: none;\n",
              "    border-radius: 50%;\n",
              "    cursor: pointer;\n",
              "    display: none;\n",
              "    fill: var(--fill-color);\n",
              "    height: 32px;\n",
              "    padding: 0;\n",
              "    width: 32px;\n",
              "  }\n",
              "\n",
              "  .colab-df-quickchart:hover {\n",
              "    background-color: var(--hover-bg-color);\n",
              "    box-shadow: 0 1px 2px rgba(60, 64, 67, 0.3), 0 1px 3px 1px rgba(60, 64, 67, 0.15);\n",
              "    fill: var(--button-hover-fill-color);\n",
              "  }\n",
              "\n",
              "  .colab-df-quickchart-complete:disabled,\n",
              "  .colab-df-quickchart-complete:disabled:hover {\n",
              "    background-color: var(--disabled-bg-color);\n",
              "    fill: var(--disabled-fill-color);\n",
              "    box-shadow: none;\n",
              "  }\n",
              "\n",
              "  .colab-df-spinner {\n",
              "    border: 2px solid var(--fill-color);\n",
              "    border-color: transparent;\n",
              "    border-bottom-color: var(--fill-color);\n",
              "    animation:\n",
              "      spin 1s steps(1) infinite;\n",
              "  }\n",
              "\n",
              "  @keyframes spin {\n",
              "    0% {\n",
              "      border-color: transparent;\n",
              "      border-bottom-color: var(--fill-color);\n",
              "      border-left-color: var(--fill-color);\n",
              "    }\n",
              "    20% {\n",
              "      border-color: transparent;\n",
              "      border-left-color: var(--fill-color);\n",
              "      border-top-color: var(--fill-color);\n",
              "    }\n",
              "    30% {\n",
              "      border-color: transparent;\n",
              "      border-left-color: var(--fill-color);\n",
              "      border-top-color: var(--fill-color);\n",
              "      border-right-color: var(--fill-color);\n",
              "    }\n",
              "    40% {\n",
              "      border-color: transparent;\n",
              "      border-right-color: var(--fill-color);\n",
              "      border-top-color: var(--fill-color);\n",
              "    }\n",
              "    60% {\n",
              "      border-color: transparent;\n",
              "      border-right-color: var(--fill-color);\n",
              "    }\n",
              "    80% {\n",
              "      border-color: transparent;\n",
              "      border-right-color: var(--fill-color);\n",
              "      border-bottom-color: var(--fill-color);\n",
              "    }\n",
              "    90% {\n",
              "      border-color: transparent;\n",
              "      border-bottom-color: var(--fill-color);\n",
              "    }\n",
              "  }\n",
              "</style>\n",
              "\n",
              "  <script>\n",
              "    async function quickchart(key) {\n",
              "      const quickchartButtonEl =\n",
              "        document.querySelector('#' + key + ' button');\n",
              "      quickchartButtonEl.disabled = true;  // To prevent multiple clicks.\n",
              "      quickchartButtonEl.classList.add('colab-df-spinner');\n",
              "      try {\n",
              "        const charts = await google.colab.kernel.invokeFunction(\n",
              "            'suggestCharts', [key], {});\n",
              "      } catch (error) {\n",
              "        console.error('Error during call to suggestCharts:', error);\n",
              "      }\n",
              "      quickchartButtonEl.classList.remove('colab-df-spinner');\n",
              "      quickchartButtonEl.classList.add('colab-df-quickchart-complete');\n",
              "    }\n",
              "    (() => {\n",
              "      let quickchartButtonEl =\n",
              "        document.querySelector('#df-dd87104a-8c02-4606-8781-79a5245bcc87 button');\n",
              "      quickchartButtonEl.style.display =\n",
              "        google.colab.kernel.accessAllowed ? 'block' : 'none';\n",
              "    })();\n",
              "  </script>\n",
              "</div>\n",
              "    </div>\n",
              "  </div>\n"
            ]
          },
          "metadata": {},
          "execution_count": 4
        }
      ]
    },
    {
      "cell_type": "code",
      "source": [
        "data['race/ethnicity'] = data['race/ethnicity'].map({'group A': 1, 'group B': 2, 'group C': 3, 'group D': 4, 'group E': 5})"
      ],
      "metadata": {
        "id": "H-B6wguaho7N"
      },
      "execution_count": 5,
      "outputs": []
    },
    {
      "cell_type": "code",
      "source": [
        "data.head()"
      ],
      "metadata": {
        "colab": {
          "base_uri": "https://localhost:8080/",
          "height": 258
        },
        "id": "oR5oERquh59q",
        "outputId": "a67486df-5dc5-453a-d991-d3d5b72cc999"
      },
      "execution_count": 6,
      "outputs": [
        {
          "output_type": "execute_result",
          "data": {
            "text/plain": [
              "   gender  race/ethnicity parental level of education         lunch  \\\n",
              "0    male               1                 high school      standard   \n",
              "1  female               4            some high school  free/reduced   \n",
              "2    male               5                some college  free/reduced   \n",
              "3    male               2                 high school      standard   \n",
              "4    male               5          associate's degree      standard   \n",
              "\n",
              "  test preparation course  math score  reading score  writing score  \n",
              "0               completed          67             67             63  \n",
              "1                    none          40             59             55  \n",
              "2                    none          59             60             50  \n",
              "3                    none          77             78             68  \n",
              "4               completed          78             73             68  "
            ],
            "text/html": [
              "\n",
              "  <div id=\"df-283c7a25-497e-4f75-9e28-faf6f79d5b6c\" class=\"colab-df-container\">\n",
              "    <div>\n",
              "<style scoped>\n",
              "    .dataframe tbody tr th:only-of-type {\n",
              "        vertical-align: middle;\n",
              "    }\n",
              "\n",
              "    .dataframe tbody tr th {\n",
              "        vertical-align: top;\n",
              "    }\n",
              "\n",
              "    .dataframe thead th {\n",
              "        text-align: right;\n",
              "    }\n",
              "</style>\n",
              "<table border=\"1\" class=\"dataframe\">\n",
              "  <thead>\n",
              "    <tr style=\"text-align: right;\">\n",
              "      <th></th>\n",
              "      <th>gender</th>\n",
              "      <th>race/ethnicity</th>\n",
              "      <th>parental level of education</th>\n",
              "      <th>lunch</th>\n",
              "      <th>test preparation course</th>\n",
              "      <th>math score</th>\n",
              "      <th>reading score</th>\n",
              "      <th>writing score</th>\n",
              "    </tr>\n",
              "  </thead>\n",
              "  <tbody>\n",
              "    <tr>\n",
              "      <th>0</th>\n",
              "      <td>male</td>\n",
              "      <td>1</td>\n",
              "      <td>high school</td>\n",
              "      <td>standard</td>\n",
              "      <td>completed</td>\n",
              "      <td>67</td>\n",
              "      <td>67</td>\n",
              "      <td>63</td>\n",
              "    </tr>\n",
              "    <tr>\n",
              "      <th>1</th>\n",
              "      <td>female</td>\n",
              "      <td>4</td>\n",
              "      <td>some high school</td>\n",
              "      <td>free/reduced</td>\n",
              "      <td>none</td>\n",
              "      <td>40</td>\n",
              "      <td>59</td>\n",
              "      <td>55</td>\n",
              "    </tr>\n",
              "    <tr>\n",
              "      <th>2</th>\n",
              "      <td>male</td>\n",
              "      <td>5</td>\n",
              "      <td>some college</td>\n",
              "      <td>free/reduced</td>\n",
              "      <td>none</td>\n",
              "      <td>59</td>\n",
              "      <td>60</td>\n",
              "      <td>50</td>\n",
              "    </tr>\n",
              "    <tr>\n",
              "      <th>3</th>\n",
              "      <td>male</td>\n",
              "      <td>2</td>\n",
              "      <td>high school</td>\n",
              "      <td>standard</td>\n",
              "      <td>none</td>\n",
              "      <td>77</td>\n",
              "      <td>78</td>\n",
              "      <td>68</td>\n",
              "    </tr>\n",
              "    <tr>\n",
              "      <th>4</th>\n",
              "      <td>male</td>\n",
              "      <td>5</td>\n",
              "      <td>associate's degree</td>\n",
              "      <td>standard</td>\n",
              "      <td>completed</td>\n",
              "      <td>78</td>\n",
              "      <td>73</td>\n",
              "      <td>68</td>\n",
              "    </tr>\n",
              "  </tbody>\n",
              "</table>\n",
              "</div>\n",
              "    <div class=\"colab-df-buttons\">\n",
              "\n",
              "  <div class=\"colab-df-container\">\n",
              "    <button class=\"colab-df-convert\" onclick=\"convertToInteractive('df-283c7a25-497e-4f75-9e28-faf6f79d5b6c')\"\n",
              "            title=\"Convert this dataframe to an interactive table.\"\n",
              "            style=\"display:none;\">\n",
              "\n",
              "  <svg xmlns=\"http://www.w3.org/2000/svg\" height=\"24px\" viewBox=\"0 -960 960 960\">\n",
              "    <path d=\"M120-120v-720h720v720H120Zm60-500h600v-160H180v160Zm220 220h160v-160H400v160Zm0 220h160v-160H400v160ZM180-400h160v-160H180v160Zm440 0h160v-160H620v160ZM180-180h160v-160H180v160Zm440 0h160v-160H620v160Z\"/>\n",
              "  </svg>\n",
              "    </button>\n",
              "\n",
              "  <style>\n",
              "    .colab-df-container {\n",
              "      display:flex;\n",
              "      gap: 12px;\n",
              "    }\n",
              "\n",
              "    .colab-df-convert {\n",
              "      background-color: #E8F0FE;\n",
              "      border: none;\n",
              "      border-radius: 50%;\n",
              "      cursor: pointer;\n",
              "      display: none;\n",
              "      fill: #1967D2;\n",
              "      height: 32px;\n",
              "      padding: 0 0 0 0;\n",
              "      width: 32px;\n",
              "    }\n",
              "\n",
              "    .colab-df-convert:hover {\n",
              "      background-color: #E2EBFA;\n",
              "      box-shadow: 0px 1px 2px rgba(60, 64, 67, 0.3), 0px 1px 3px 1px rgba(60, 64, 67, 0.15);\n",
              "      fill: #174EA6;\n",
              "    }\n",
              "\n",
              "    .colab-df-buttons div {\n",
              "      margin-bottom: 4px;\n",
              "    }\n",
              "\n",
              "    [theme=dark] .colab-df-convert {\n",
              "      background-color: #3B4455;\n",
              "      fill: #D2E3FC;\n",
              "    }\n",
              "\n",
              "    [theme=dark] .colab-df-convert:hover {\n",
              "      background-color: #434B5C;\n",
              "      box-shadow: 0px 1px 3px 1px rgba(0, 0, 0, 0.15);\n",
              "      filter: drop-shadow(0px 1px 2px rgba(0, 0, 0, 0.3));\n",
              "      fill: #FFFFFF;\n",
              "    }\n",
              "  </style>\n",
              "\n",
              "    <script>\n",
              "      const buttonEl =\n",
              "        document.querySelector('#df-283c7a25-497e-4f75-9e28-faf6f79d5b6c button.colab-df-convert');\n",
              "      buttonEl.style.display =\n",
              "        google.colab.kernel.accessAllowed ? 'block' : 'none';\n",
              "\n",
              "      async function convertToInteractive(key) {\n",
              "        const element = document.querySelector('#df-283c7a25-497e-4f75-9e28-faf6f79d5b6c');\n",
              "        const dataTable =\n",
              "          await google.colab.kernel.invokeFunction('convertToInteractive',\n",
              "                                                    [key], {});\n",
              "        if (!dataTable) return;\n",
              "\n",
              "        const docLinkHtml = 'Like what you see? Visit the ' +\n",
              "          '<a target=\"_blank\" href=https://colab.research.google.com/notebooks/data_table.ipynb>data table notebook</a>'\n",
              "          + ' to learn more about interactive tables.';\n",
              "        element.innerHTML = '';\n",
              "        dataTable['output_type'] = 'display_data';\n",
              "        await google.colab.output.renderOutput(dataTable, element);\n",
              "        const docLink = document.createElement('div');\n",
              "        docLink.innerHTML = docLinkHtml;\n",
              "        element.appendChild(docLink);\n",
              "      }\n",
              "    </script>\n",
              "  </div>\n",
              "\n",
              "\n",
              "<div id=\"df-a909edc0-aa78-4dd6-b15f-cc81ffab557e\">\n",
              "  <button class=\"colab-df-quickchart\" onclick=\"quickchart('df-a909edc0-aa78-4dd6-b15f-cc81ffab557e')\"\n",
              "            title=\"Suggest charts.\"\n",
              "            style=\"display:none;\">\n",
              "\n",
              "<svg xmlns=\"http://www.w3.org/2000/svg\" height=\"24px\"viewBox=\"0 0 24 24\"\n",
              "     width=\"24px\">\n",
              "    <g>\n",
              "        <path d=\"M19 3H5c-1.1 0-2 .9-2 2v14c0 1.1.9 2 2 2h14c1.1 0 2-.9 2-2V5c0-1.1-.9-2-2-2zM9 17H7v-7h2v7zm4 0h-2V7h2v10zm4 0h-2v-4h2v4z\"/>\n",
              "    </g>\n",
              "</svg>\n",
              "  </button>\n",
              "\n",
              "<style>\n",
              "  .colab-df-quickchart {\n",
              "      --bg-color: #E8F0FE;\n",
              "      --fill-color: #1967D2;\n",
              "      --hover-bg-color: #E2EBFA;\n",
              "      --hover-fill-color: #174EA6;\n",
              "      --disabled-fill-color: #AAA;\n",
              "      --disabled-bg-color: #DDD;\n",
              "  }\n",
              "\n",
              "  [theme=dark] .colab-df-quickchart {\n",
              "      --bg-color: #3B4455;\n",
              "      --fill-color: #D2E3FC;\n",
              "      --hover-bg-color: #434B5C;\n",
              "      --hover-fill-color: #FFFFFF;\n",
              "      --disabled-bg-color: #3B4455;\n",
              "      --disabled-fill-color: #666;\n",
              "  }\n",
              "\n",
              "  .colab-df-quickchart {\n",
              "    background-color: var(--bg-color);\n",
              "    border: none;\n",
              "    border-radius: 50%;\n",
              "    cursor: pointer;\n",
              "    display: none;\n",
              "    fill: var(--fill-color);\n",
              "    height: 32px;\n",
              "    padding: 0;\n",
              "    width: 32px;\n",
              "  }\n",
              "\n",
              "  .colab-df-quickchart:hover {\n",
              "    background-color: var(--hover-bg-color);\n",
              "    box-shadow: 0 1px 2px rgba(60, 64, 67, 0.3), 0 1px 3px 1px rgba(60, 64, 67, 0.15);\n",
              "    fill: var(--button-hover-fill-color);\n",
              "  }\n",
              "\n",
              "  .colab-df-quickchart-complete:disabled,\n",
              "  .colab-df-quickchart-complete:disabled:hover {\n",
              "    background-color: var(--disabled-bg-color);\n",
              "    fill: var(--disabled-fill-color);\n",
              "    box-shadow: none;\n",
              "  }\n",
              "\n",
              "  .colab-df-spinner {\n",
              "    border: 2px solid var(--fill-color);\n",
              "    border-color: transparent;\n",
              "    border-bottom-color: var(--fill-color);\n",
              "    animation:\n",
              "      spin 1s steps(1) infinite;\n",
              "  }\n",
              "\n",
              "  @keyframes spin {\n",
              "    0% {\n",
              "      border-color: transparent;\n",
              "      border-bottom-color: var(--fill-color);\n",
              "      border-left-color: var(--fill-color);\n",
              "    }\n",
              "    20% {\n",
              "      border-color: transparent;\n",
              "      border-left-color: var(--fill-color);\n",
              "      border-top-color: var(--fill-color);\n",
              "    }\n",
              "    30% {\n",
              "      border-color: transparent;\n",
              "      border-left-color: var(--fill-color);\n",
              "      border-top-color: var(--fill-color);\n",
              "      border-right-color: var(--fill-color);\n",
              "    }\n",
              "    40% {\n",
              "      border-color: transparent;\n",
              "      border-right-color: var(--fill-color);\n",
              "      border-top-color: var(--fill-color);\n",
              "    }\n",
              "    60% {\n",
              "      border-color: transparent;\n",
              "      border-right-color: var(--fill-color);\n",
              "    }\n",
              "    80% {\n",
              "      border-color: transparent;\n",
              "      border-right-color: var(--fill-color);\n",
              "      border-bottom-color: var(--fill-color);\n",
              "    }\n",
              "    90% {\n",
              "      border-color: transparent;\n",
              "      border-bottom-color: var(--fill-color);\n",
              "    }\n",
              "  }\n",
              "</style>\n",
              "\n",
              "  <script>\n",
              "    async function quickchart(key) {\n",
              "      const quickchartButtonEl =\n",
              "        document.querySelector('#' + key + ' button');\n",
              "      quickchartButtonEl.disabled = true;  // To prevent multiple clicks.\n",
              "      quickchartButtonEl.classList.add('colab-df-spinner');\n",
              "      try {\n",
              "        const charts = await google.colab.kernel.invokeFunction(\n",
              "            'suggestCharts', [key], {});\n",
              "      } catch (error) {\n",
              "        console.error('Error during call to suggestCharts:', error);\n",
              "      }\n",
              "      quickchartButtonEl.classList.remove('colab-df-spinner');\n",
              "      quickchartButtonEl.classList.add('colab-df-quickchart-complete');\n",
              "    }\n",
              "    (() => {\n",
              "      let quickchartButtonEl =\n",
              "        document.querySelector('#df-a909edc0-aa78-4dd6-b15f-cc81ffab557e button');\n",
              "      quickchartButtonEl.style.display =\n",
              "        google.colab.kernel.accessAllowed ? 'block' : 'none';\n",
              "    })();\n",
              "  </script>\n",
              "</div>\n",
              "    </div>\n",
              "  </div>\n"
            ]
          },
          "metadata": {},
          "execution_count": 6
        }
      ]
    },
    {
      "cell_type": "code",
      "source": [
        "# Seleccionar la columna \"test preparation course\"\n",
        "group = data['race/ethnicity'].values\n",
        "\n",
        "# Crear una variable para las notas correspondientes\n",
        "score = data['math score'].values\n",
        "\n",
        "# Crear una figura y un eje de subplots\n",
        "fig, ax = plt.subplots(figsize=(10, 5))\n",
        "\n",
        "# Graficar los datos de notas como puntos\n",
        "ax.scatter(score, group, marker='o', color='blue')  # 'o' especifica el marcador como un círculo\n",
        "\n",
        "# Agregar etiquetas a los ejes y al gráfico\n",
        "ax.set_xlabel('Notas')\n",
        "ax.set_ylabel('Grupos')\n",
        "ax.set_title('Notas de los grupos')\n",
        "\n",
        "plt.show()"
      ],
      "metadata": {
        "colab": {
          "base_uri": "https://localhost:8080/",
          "height": 474
        },
        "id": "gNs9_qkroKPf",
        "outputId": "a50e30da-6d11-414d-a51e-28549b169c5e"
      },
      "execution_count": 7,
      "outputs": [
        {
          "output_type": "display_data",
          "data": {
            "text/plain": [
              "<Figure size 1000x500 with 1 Axes>"
            ],
            "image/png": "[encoded data removed]"
          },
          "metadata": {}
        }
      ]
    },
    {
      "cell_type": "code",
      "source": [
        "# convertir datos en formato de matriz y normalizarlos dividiéndolos con el valor máximo\n",
        "all_data = data['math score'].values.astype(float)\n",
        "\n",
        "test_data_size = 12\n",
        "\n",
        "train_data = all_data[:-test_data_size]\n",
        "test_data = all_data[-test_data_size:]"
      ],
      "metadata": {
        "id": "H20x3ORw2_Ym"
      },
      "execution_count": 8,
      "outputs": []
    },
    {
      "cell_type": "code",
      "source": [
        "train_data.shape, test_data.shape"
      ],
      "metadata": {
        "colab": {
          "base_uri": "https://localhost:8080/"
        },
        "id": "c_DGIjp1qG2w",
        "outputId": "c01d29da-0fda-480b-c281-81b80160f062"
      },
      "execution_count": 9,
      "outputs": [
        {
          "output_type": "execute_result",
          "data": {
            "text/plain": [
              "((988,), (12,))"
            ]
          },
          "metadata": {},
          "execution_count": 9
        }
      ]
    },
    {
      "cell_type": "markdown",
      "source": [
        "# Normalizacion\n",
        "Normalizamos los datos en el rango específico de (-1, 1)."
      ],
      "metadata": {
        "id": "yLgYVCyJqe5C"
      }
    },
    {
      "cell_type": "code",
      "source": [
        "from sklearn.preprocessing import MinMaxScaler\n",
        "\n",
        "scaler = MinMaxScaler(feature_range=(-1, 1))\n",
        "train_data_normalized = scaler.fit_transform(train_data .reshape(-1, 1))\n",
        "\n",
        "print(train_data_normalized[:5])\n",
        "print(train_data_normalized[-5:])"
      ],
      "metadata": {
        "colab": {
          "base_uri": "https://localhost:8080/"
        },
        "id": "xZomF_Un3UGf",
        "outputId": "6b41adec-8fd2-42eb-84bc-785465cc5fff"
      },
      "execution_count": 10,
      "outputs": [
        {
          "output_type": "stream",
          "name": "stdout",
          "text": [
            "[[ 0.24137931]\n",
            " [-0.37931034]\n",
            " [ 0.05747126]\n",
            " [ 0.47126437]\n",
            " [ 0.49425287]]\n",
            "[[0.03448276]\n",
            " [0.14942529]\n",
            " [0.40229885]\n",
            " [0.49425287]\n",
            " [0.49425287]]\n"
          ]
        }
      ]
    },
    {
      "cell_type": "code",
      "source": [
        "# Ya normalizados\n",
        "train_data_normalized.shape"
      ],
      "metadata": {
        "colab": {
          "base_uri": "https://localhost:8080/"
        },
        "id": "eempWZyOrL1w",
        "outputId": "ccacf7bd-4e63-43f9-9847-0fd58b3ee82f"
      },
      "execution_count": 11,
      "outputs": [
        {
          "output_type": "execute_result",
          "data": {
            "text/plain": [
              "(988, 1)"
            ]
          },
          "metadata": {},
          "execution_count": 11
        }
      ]
    },
    {
      "cell_type": "markdown",
      "source": [
        "#Convertir datos a Tensores"
      ],
      "metadata": {
        "id": "H0lalXpErP74"
      }
    },
    {
      "cell_type": "code",
      "source": [
        "# Convertir los datos normalizados de TRAIN en tensores\n",
        "train_data_normalized = torch.FloatTensor(train_data_normalized).view(-1)\n",
        "train_data_normalized.shape"
      ],
      "metadata": {
        "colab": {
          "base_uri": "https://localhost:8080/"
        },
        "id": "bwSllZei3jXm",
        "outputId": "770bb683-beb9-41d0-a34c-3608e4d0aba8"
      },
      "execution_count": 12,
      "outputs": [
        {
          "output_type": "execute_result",
          "data": {
            "text/plain": [
              "torch.Size([988])"
            ]
          },
          "metadata": {},
          "execution_count": 12
        }
      ]
    },
    {
      "cell_type": "markdown",
      "source": [
        "# Funcion para crear secuencias"
      ],
      "metadata": {
        "id": "UdS52386rkQQ"
      }
    },
    {
      "cell_type": "code",
      "source": [
        "# Función para crear secuencia y etiqueta para datos de entrenamiento\n",
        "def create_inout_sequences(input_data, tw):\n",
        "    inout_seq = []\n",
        "    L = len(input_data)\n",
        "    for i in range(L-tw):\n",
        "        train_seq = input_data[i:i+tw]\n",
        "        train_label = input_data[i+tw:i+tw+1]\n",
        "        inout_seq.append((train_seq ,train_label))\n",
        "    return inout_seq"
      ],
      "metadata": {
        "id": "LxlrGwhG3w-W"
      },
      "execution_count": 13,
      "outputs": []
    },
    {
      "cell_type": "markdown",
      "source": [
        "El tamaño de la ventana de tiempo (train_window) es el número de puntos de datos que se utilizan para predecir el siguiente punto de datos en una serie temporal. En este caso, el tamaño de la ventana de tiempo es 12, lo que significa que se utilizan los últimos 12 puntos de datos para predecir el siguiente punto de datos."
      ],
      "metadata": {
        "id": "LhxcmNr6sRvg"
      }
    },
    {
      "cell_type": "code",
      "source": [
        "train_window = 12 # tamaño de la ventana de tiempo\n",
        "train_inout_seq = create_inout_sequences(train_data_normalized, train_window)"
      ],
      "metadata": {
        "id": "_gwAETcx30tv"
      },
      "execution_count": 14,
      "outputs": []
    },
    {
      "cell_type": "markdown",
      "source": [
        "# Definiendo Modelo DeepRNN"
      ],
      "metadata": {
        "id": "lh0z3JFi2v6v"
      }
    },
    {
      "cell_type": "code",
      "source": [
        "class DeepRNN(nn.Module):\n",
        "    def __init__(self, input_size=1, hidden_layer_size=100, output_size=1):\n",
        "        super().__init__()\n",
        "        self.hidden_layer_size = hidden_layer_size\n",
        "        # Definir una capa RNN con input_size entradas y hidden_layer_size salidas\n",
        "        self.rnn = nn.RNN(input_size, hidden_layer_size)\n",
        "        # Agregar una capa Dropout\n",
        "        self.dropout = nn.Dropout(p=0.2)\n",
        "        # Definir una capa lineal con hidden_layer_size entradas y output_size salidas\n",
        "        self.linear = nn.Linear(hidden_layer_size, output_size)\n",
        "        # Inicializar la capa oculta con un tensor de ceros\n",
        "        self.hidden_cell = torch.zeros(1, 1, self.hidden_layer_size)\n",
        "\n",
        "    def forward(self, input_seq):\n",
        "        # Pasar la secuencia de entrada a través de la capa RNN\n",
        "        rnn_out, self.hidden_cell = self.rnn(input_seq.view(len(input_seq), 1, -1), self.hidden_cell)\n",
        "        # Agregar la capa Dropout\n",
        "        dropout_out = self.dropout(rnn_out)\n",
        "        # Pasar la salida de la capa RNN a través de la capa lineal para producir las predicciones\n",
        "        predictions = self.linear(dropout_out.view(len(input_seq), -1))\n",
        "        # Devolver la última predicción\n",
        "        return predictions[-1]"
      ],
      "metadata": {
        "id": "Er0HzFYt8rFb"
      },
      "execution_count": 15,
      "outputs": []
    },
    {
      "cell_type": "code",
      "source": [
        "model=DeepRNN()\n",
        "model"
      ],
      "metadata": {
        "colab": {
          "base_uri": "https://localhost:8080/"
        },
        "id": "8XzpETWB8v0M",
        "outputId": "e8988d1b-f43f-4df4-baf3-5f17966bfef2"
      },
      "execution_count": 16,
      "outputs": [
        {
          "output_type": "execute_result",
          "data": {
            "text/plain": [
              "DeepRNN(\n",
              "  (rnn): RNN(1, 100)\n",
              "  (dropout): Dropout(p=0.2, inplace=False)\n",
              "  (linear): Linear(in_features=100, out_features=1, bias=True)\n",
              ")"
            ]
          },
          "metadata": {},
          "execution_count": 16
        }
      ]
    },
    {
      "cell_type": "code",
      "source": [
        "loss_function=nn.MSELoss()\n",
        "optimizer=torch.optim.Adam(model.parameters(),lr=0.001)"
      ],
      "metadata": {
        "id": "C8ecjrYjMvkV"
      },
      "execution_count": 17,
      "outputs": []
    },
    {
      "cell_type": "code",
      "source": [
        "epochs = 100\n",
        "# Ciclo de entrenamiento\n",
        "for i in range(epochs + 1):\n",
        "  # Ciclo de entrenamiento para cada secuencia de entrada\n",
        "  for seq,label in train_inout_seq:\n",
        "    # Reiniciar los gradientes\n",
        "    optimizer.zero_grad()\n",
        "    # Reiniciar el estado oculto de la red\n",
        "    model.hidden_cell=(torch.zeros(1,1,model.hidden_layer_size))\n",
        "    # Propagación hacia adelante a través de la red\n",
        "    y_pred=model(seq)\n",
        "    # Calcular la pérdida para la predicción actual\n",
        "    single_loss=loss_function(y_pred,label)\n",
        "    # Propagación hacia atrás de la pérdida\n",
        "    single_loss.backward()\n",
        "    # Actualizar los pesos de la red\n",
        "    optimizer.step()\n",
        "  # Imprimir la pérdida cada 5 épocas\n",
        "  if i%25==0:\n",
        "    print(f'epoch: {i:3} loss: {single_loss.item():10.8f}')\n",
        "# Imprimir la pérdida final\n",
        "print(f'epoch: {i:3} loss: {single_loss.item():10.10f}')"
      ],
      "metadata": {
        "colab": {
          "base_uri": "https://localhost:8080/"
        },
        "id": "K9MYDKHB85BK",
        "outputId": "6249d721-bc49-47fa-d3b7-1c05235b5327"
      },
      "execution_count": 18,
      "outputs": [
        {
          "output_type": "stream",
          "name": "stdout",
          "text": [
            "epoch:   0 loss: 0.10784199\n",
            "epoch:  25 loss: 0.07476383\n",
            "epoch:  50 loss: 0.07611974\n",
            "epoch:  75 loss: 0.22768597\n",
            "epoch: 100 loss: 0.26255733\n",
            "epoch: 100 loss: 0.2625573277\n"
          ]
        }
      ]
    },
    {
      "cell_type": "code",
      "source": [
        "# Obtener los últimos datos de entrenamiento normalizados\n",
        "test_inputs = train_data_normalized[-train_window:].tolist()\n",
        "\n",
        "# Establecer el modelo en modo de evaluación\n",
        "model.eval()\n",
        "\n",
        "for i in range(test_data_size):\n",
        "    # Crear una secuencia de entrada a partir de los últimos datos de prueba\n",
        "    seq = torch.FloatTensor(test_inputs[-train_window:])\n",
        "    # Desactivar el cálculo de gradientes para la predicción\n",
        "    with torch.no_grad():\n",
        "        # Establecer el estado oculto inicial en cero\n",
        "        model.hidden = (torch.zeros(1, 1, model.hidden_layer_size))\n",
        "        # Realizar la predicción y agregarla a los datos de prueba\n",
        "        test_inputs.append(model(seq).item())\n",
        "\n",
        "# Invertir la normalización y obtener las predicciones reales\n",
        "actual_predictions = scaler.inverse_transform(np.array(test_inputs[train_window:] ).reshape(-1, 1))"
      ],
      "metadata": {
        "id": "FfC3i-Uz_CmS"
      },
      "execution_count": 19,
      "outputs": []
    },
    {
      "cell_type": "code",
      "source": [
        "import numpy as np\n",
        "import matplotlib.pyplot as plt\n",
        "\n",
        "x = np.arange(132, 144, 1)\n",
        "\n",
        "plt.title(\"Notas de los grupos\")\n",
        "plt.ylabel(\"Grupos\")\n",
        "plt.grid(True)\n",
        "plt.autoscale(axis='x', tight=True)\n",
        "\n",
        "# Utiliza scatter para mostrar puntos en lugar de plot\n",
        "plt.scatter(range(len(data['math score'])), data['math score'], color='blue', marker='o', label='Datos reales')\n",
        "plt.scatter(x, actual_predictions, color='green', marker='x', label='Predicciones')\n",
        "\n",
        "plt.legend()  # Agrega una leyenda para diferenciar las series de datos\n",
        "plt.show()\n"
      ],
      "metadata": {
        "colab": {
          "base_uri": "https://localhost:8080/",
          "height": 452
        },
        "id": "yj1IFEdQZMQ5",
        "outputId": "97e6057b-8a16-4ba2-f8ee-17edaba99480"
      },
      "execution_count": 32,
      "outputs": [
        {
          "output_type": "display_data",
          "data": {
            "text/plain": [
              "<Figure size 640x480 with 1 Axes>"
            ],
            "image/png": "[encoded data removed]"
          },
          "metadata": {}
        }
      ]
    },
    {
      "cell_type": "code",
      "source": [
        "# Calcular la pérdida en los datos de prueba\n",
        "test_data_normalized = scaler.transform(test_data.reshape(-1, 1))\n",
        "test_inputs = test_data_normalized[:-1]\n",
        "test_labels = test_data_normalized[1:]\n",
        "with torch.no_grad():\n",
        "    test_predictions = model(torch.FloatTensor(test_inputs).view(-1).unsqueeze(1)).view(-1)\n",
        "test_loss = loss_function(test_predictions, torch.FloatTensor(test_labels).view(-1))\n",
        "\n",
        "print(f'Test loss: {test_loss.item():10.8f}')"
      ],
      "metadata": {
        "colab": {
          "base_uri": "https://localhost:8080/"
        },
        "id": "btiWJup2F64q",
        "outputId": "4275c51e-3ace-4a7f-8177-0c7209dfbd39"
      },
      "execution_count": 21,
      "outputs": [
        {
          "output_type": "stream",
          "name": "stdout",
          "text": [
            "Test loss: 0.20905651\n"
          ]
        },
        {
          "output_type": "stream",
          "name": "stderr",
          "text": [
            "/usr/local/lib/python3.10/dist-packages/torch/nn/modules/loss.py:536: UserWarning: Using a target size (torch.Size([11])) that is different to the input size (torch.Size([1])). This will likely lead to incorrect results due to broadcasting. Please ensure they have the same size.\n",
            "  return F.mse_loss(input, target, reduction=self.reduction)\n"
          ]
        }
      ]
    },
    {
      "cell_type": "code",
      "source": [
        "import matplotlib.pyplot as plt\n",
        "\n",
        "# Visualizar los resultados como puntos en el plano\n",
        "plt.figure(figsize=(15, 5))\n",
        "plt.title(\"Notas de los grupos\")\n",
        "plt.xlabel(\"Nro de datos\")\n",
        "plt.ylabel(\"Nota\")\n",
        "\n",
        "# Graficar los datos como puntos\n",
        "plt.scatter(range(len(all_data)), all_data, label='Datos reales', marker='o')\n",
        "plt.scatter(range(len(train_data), len(train_data) + len(actual_predictions)), actual_predictions, label='Predicciones', marker='x')\n",
        "\n",
        "plt.legend()  # Agrega una leyenda para diferenciar entre datos reales y predicciones\n",
        "plt.show()"
      ],
      "metadata": {
        "colab": {
          "base_uri": "https://localhost:8080/",
          "height": 329
        },
        "id": "gaEEbQGHYvG2",
        "outputId": "2d30e307-4ac3-4da6-b471-b6c0677f0b23"
      },
      "execution_count": 31,
      "outputs": [
        {
          "output_type": "display_data",
          "data": {
            "text/plain": [
              "<Figure size 1500x500 with 1 Axes>"
            ],
            "image/png": "[encoded data removed]"
          },
          "metadata": {}
        }
      ]
    },
    {
      "cell_type": "markdown",
      "source": [
        "#Definiendo el Modelo LSTM"
      ],
      "metadata": {
        "id": "hdrneQQF4T8W"
      }
    },
    {
      "cell_type": "code",
      "source": [
        "# La clase toma tres argumentos:\n",
        "# el tamaño de entrada (input_size)\n",
        "# el tamaño de la capa oculta (hidden_layer_size)\n",
        "# el tamaño de salida (output_size)\n",
        "\n",
        "class LSTM(torch.nn.Module):\n",
        "    def __init__(self, input_size=1, hidden_layer_size=100, output_size=1):\n",
        "        super().__init__()\n",
        "        self.hidden_layer_size = hidden_layer_size\n",
        "        # Capa rnn\n",
        "        self.lstm = torch.nn.LSTM(input_size, hidden_layer_size)\n",
        "        # Segunda capa LSTM\n",
        "        self.lstm2 = torch.nn.LSTM(hidden_layer_size, hidden_layer_size)\n",
        "        # Agregar una capa Dropout\n",
        "        self.dropout = nn.Dropout(p=0.2)\n",
        "        # Capa linea (full conected)\n",
        "        self.linear = torch.nn.Linear(hidden_layer_size, output_size)\n",
        "        # Estado oculto inicial de la red\n",
        "        self.hidden_cell = (torch.zeros(1,1,self.hidden_layer_size),\n",
        "                            torch.zeros(1,1,self.hidden_layer_size))\n",
        "\n",
        "    def forward(self, input_seq):\n",
        "      # Propagación hacia adelante a través de la capa LSTM\n",
        "      lstm_out, self.hidden_cell = self.lstm(input_seq.view(len(input_seq) ,1,-1), self.hidden_cell)\n",
        "      # Propagación hacia adelante a través de la segunda capa LSTM\n",
        "      lstm_out2, self.hidden_cell = self.lstm2(lstm_out.view(len(input_seq), 1, -1), self.hidden_cell)\n",
        "      # capa Dropout\n",
        "      dropout_out = self.dropout(lstm_out2)\n",
        "      # Propagación hacia adelante a través de la capa lineal\n",
        "      predictions=self.linear(dropout_out.view(len(input_seq),-1))\n",
        "\n",
        "      # Devuelve todas las predicciones en la secuencia\n",
        "      return predictions[-1]"
      ],
      "metadata": {
        "id": "UX5a8Kfg38q9"
      },
      "execution_count": 23,
      "outputs": []
    },
    {
      "cell_type": "markdown",
      "source": [
        "El estado oculto inicial de la red se utiliza para almacenar información sobre la secuencia de entrada anterior. En una red neuronal recurrente (RNN), el estado oculto se actualiza en cada paso de tiempo y se utiliza para procesar la entrada en el siguiente paso de tiempo."
      ],
      "metadata": {
        "id": "L5SwLFy7tnc3"
      }
    },
    {
      "cell_type": "code",
      "source": [
        "model=LSTM()\n",
        "model"
      ],
      "metadata": {
        "colab": {
          "base_uri": "https://localhost:8080/"
        },
        "id": "e2TwvjaT4YEO",
        "outputId": "1056d271-6a14-4078-eee3-36752cdfa7f7"
      },
      "execution_count": 24,
      "outputs": [
        {
          "output_type": "execute_result",
          "data": {
            "text/plain": [
              "LSTM(\n",
              "  (lstm): LSTM(1, 100)\n",
              "  (lstm2): LSTM(100, 100)\n",
              "  (dropout): Dropout(p=0.2, inplace=False)\n",
              "  (linear): Linear(in_features=100, out_features=1, bias=True)\n",
              ")"
            ]
          },
          "metadata": {},
          "execution_count": 24
        }
      ]
    },
    {
      "cell_type": "code",
      "source": [
        "loss_function=nn.MSELoss()\n",
        "optimizer=torch.optim.Adam(model.parameters(),lr=0.001)"
      ],
      "metadata": {
        "id": "9FCK2r7s4cX4"
      },
      "execution_count": 25,
      "outputs": []
    },
    {
      "cell_type": "code",
      "source": [
        "epochs=100\n",
        "\n",
        "# Ciclo de entrenamiento\n",
        "for i in range(epochs):\n",
        "  # Ciclo de entrenamiento para cada secuencia de entrada\n",
        "  for seq,label in train_inout_seq:\n",
        "    # Reiniciar los gradientes\n",
        "    optimizer.zero_grad()\n",
        "    # Reiniciar el estado oculto de la red\n",
        "    model.hidden_cell=(torch.zeros(1,1,model.hidden_layer_size),\n",
        "                        torch.zeros(1,1,model.hidden_layer_size))\n",
        "    # Propagación hacia adelante a través de la red\n",
        "    y_pred=model(seq)\n",
        "    # Calcular la pérdida para la predicción actual\n",
        "    single_loss=loss_function(y_pred,label)\n",
        "    # Propagación hacia atrás de la pérdida\n",
        "    single_loss.backward()\n",
        "    # Actualizar los pesos de la red\n",
        "    optimizer.step()\n",
        "  # Imprimir la pérdida cada 25 épocas\n",
        "  if i%25==0:\n",
        "    print(f'epoch: {i:3} loss: {single_loss.item():10.8f}')\n",
        "# Imprimir la pérdida final\n",
        "print(f'epoch: {i:3} loss: {single_loss.item():10.10f}')"
      ],
      "metadata": {
        "colab": {
          "base_uri": "https://localhost:8080/"
        },
        "id": "_SL0HnWb4hVG",
        "outputId": "2ae22490-5a1e-4c29-aa37-228dbf9df53b"
      },
      "execution_count": 26,
      "outputs": [
        {
          "output_type": "stream",
          "name": "stdout",
          "text": [
            "epoch:   0 loss: 0.10608893\n",
            "epoch:  25 loss: 0.07457671\n",
            "epoch:  50 loss: 0.08108854\n",
            "epoch:  75 loss: 0.09544357\n",
            "epoch:  99 loss: 0.1221601665\n"
          ]
        }
      ]
    },
    {
      "cell_type": "code",
      "source": [
        "fut_pred=12\n",
        "\n",
        "# Obtener los últimos datos de entrenamiento normalizados\n",
        "test_inputs=train_data_normalized[-train_window:].tolist()\n",
        "\n",
        "# Establecer el modelo en modo de evaluación\n",
        "model.eval()\n",
        "\n",
        "# Realizar predicciones futuras\n",
        "for i in range(fut_pred):\n",
        "  # Crear una secuencia de entrada a partir de los últimos datos de prueba\n",
        "  seq=torch.FloatTensor(test_inputs[-train_window:])\n",
        "  # Desactivar el cálculo de gradientes para la predicción\n",
        "  with torch.no_grad():\n",
        "    # Establecer el estado oculto inicial en cero\n",
        "    model.hidden=(torch.zeros(1,1,model.hidden_layer_size),\n",
        "                      torch.zeros(1,1,model.hidden_layer_size))\n",
        "\n",
        "    # Realizar la predicción y agregarla a los datos de prueba\n",
        "    test_inputs.append(model(seq).item())\n",
        "\n",
        "# Invertir la normalización y obtener las predicciones reales\n",
        "actual_predictions=scaler.inverse_transform(np.array(test_inputs[train_window:]).reshape(-1,1))"
      ],
      "metadata": {
        "id": "h8OKwFWOEaJr"
      },
      "execution_count": 27,
      "outputs": []
    },
    {
      "cell_type": "code",
      "source": [
        "import numpy as np\n",
        "import matplotlib.pyplot as plt\n",
        "\n",
        "x = np.arange(132, 144, 1)\n",
        "\n",
        "plt.title(\"Notas de los grupos\")\n",
        "plt.ylabel(\"Grupos\")\n",
        "plt.grid(True)\n",
        "plt.autoscale(axis='x', tight=True)\n",
        "\n",
        "# Utiliza scatter para mostrar puntos en lugar de plot\n",
        "plt.scatter(range(len(data['math score'])), data['math score'], color='blue', marker='o', label='Datos reales')\n",
        "plt.scatter(x, actual_predictions, color='green', marker='x', label='Predicciones')\n",
        "\n",
        "plt.legend()  # Agrega una leyenda para diferenciar las series de datos\n",
        "plt.show()"
      ],
      "metadata": {
        "colab": {
          "base_uri": "https://localhost:8080/",
          "height": 452
        },
        "id": "gofH3abeHCZk",
        "outputId": "1ffcbc50-1dde-4e63-e547-8ad36d49bd34"
      },
      "execution_count": 33,
      "outputs": [
        {
          "output_type": "display_data",
          "data": {
            "text/plain": [
              "<Figure size 640x480 with 1 Axes>"
            ],
            "image/png": "[encoded data removed]"
          },
          "metadata": {}
        }
      ]
    }
  ]
}